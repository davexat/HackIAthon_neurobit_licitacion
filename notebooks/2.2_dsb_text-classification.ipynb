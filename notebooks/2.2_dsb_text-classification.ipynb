{
 "cells": [
  {
   "cell_type": "code",
   "id": "initial_id",
   "metadata": {
    "collapsed": true,
    "ExecuteTime": {
     "end_time": "2025-08-08T23:49:06.932274Z",
     "start_time": "2025-08-08T23:49:06.795805Z"
    }
   },
   "source": [
    "%load_ext autoreload\n",
    "%autoreload 2"
   ],
   "outputs": [],
   "execution_count": 1
  },
  {
   "metadata": {
    "ExecuteTime": {
     "end_time": "2025-08-09T00:07:20.606517Z",
     "start_time": "2025-08-09T00:07:20.546986Z"
    }
   },
   "cell_type": "code",
   "source": [
    "import src.classifier.rule_based as rb\n",
    "import src.utils.pdf_parser_mock as samples"
   ],
   "id": "4d51a223818bba86",
   "outputs": [],
   "execution_count": 19
  },
  {
   "metadata": {
    "ExecuteTime": {
     "end_time": "2025-08-09T00:07:29.352402Z",
     "start_time": "2025-08-09T00:07:29.291332Z"
    }
   },
   "cell_type": "code",
   "source": "rb.test()",
   "id": "15bde37debf417d0",
   "outputs": [
    {
     "name": "stdout",
     "output_type": "stream",
     "text": [
      "=== Resultados de clasificación ===\n",
      "- [CONDICIONES_LEGALES] El contratista deberá cumplir con todas las normas de seguridad.\n",
      "- [REQUISITOS_TECNICOS] El plazo será de 90 días a partir de la firma del contrato.\n",
      "- [CONDICIONES_ECONOMICAS] El presupuesto estimado es de $500,000.\n",
      "- [GARANTIAS_Y_POLIZAS] Se solicita presentar póliza de seguro de buena ejecución.\n",
      "- [PLAZOS_Y_ENTREGABLES] La primera entrega parcial será en 30 días hábiles.\n",
      "- [OTRO] Contacto: soporte@empresa.com o visite https://www.empresa.com/terminos.\n",
      "Aserciones básicas: OK\n"
     ]
    }
   ],
   "execution_count": 20
  },
  {
   "metadata": {
    "ExecuteTime": {
     "end_time": "2025-08-09T00:07:54.005193Z",
     "start_time": "2025-08-09T00:07:53.942174Z"
    }
   },
   "cell_type": "code",
   "source": [
    "text = samples.get_sample_text()\n",
    "rb.classify_paragraph(text)"
   ],
   "id": "83e626f9ce3700e2",
   "outputs": [
    {
     "data": {
      "text/plain": [
       "[{'texto': 'El contratista deberá cumplir con todas las normas de seguridad.',\n",
       "  'categoria': 'CONDICIONES_LEGALES'},\n",
       " {'texto': 'El plazo será de 90 días a partir de la firma del contrato.',\n",
       "  'categoria': 'REQUISITOS_TECNICOS'},\n",
       " {'texto': 'El presupuesto estimado es de $500,000.',\n",
       "  'categoria': 'CONDICIONES_ECONOMICAS'},\n",
       " {'texto': 'El RUC del contratista es 1790012345001.',\n",
       "  'categoria': 'CONDICIONES_LEGALES'}]"
      ]
     },
     "execution_count": 22,
     "metadata": {},
     "output_type": "execute_result"
    }
   ],
   "execution_count": 22
  },
  {
   "metadata": {
    "ExecuteTime": {
     "end_time": "2025-08-09T00:18:01.188030Z",
     "start_time": "2025-08-09T00:18:01.101288Z"
    }
   },
   "cell_type": "code",
   "source": "rb.classify_paragraph(samples.get_sample_contract())",
   "id": "54cbc0ff1ac70bde",
   "outputs": [
    {
     "data": {
      "text/plain": [
       "[{'texto': 'CONTRATO DE OBRA PUBLICA', 'categoria': 'REQUISITOS_TECNICOS'},\n",
       " {'texto': 'Entre la PREFECTURA DEL GUAYAS y EDIFIKA S.A.',\n",
       "  'categoria': 'OTRO'},\n",
       " {'texto': 'Proyecto: Ampliacion de la Via Samborondon - Asfaltado completo de 10 carriles',\n",
       "  'categoria': 'OTRO'},\n",
       " {'texto': 'Monto: USD 20,000,000.00', 'categoria': 'CONDICIONES_ECONOMICAS'},\n",
       " {'texto': 'Plazo: 12 meses', 'categoria': 'REQUISITOS_TECNICOS'},\n",
       " {'texto': 'CLAUSULAS CONTRACTUALES', 'categoria': 'CONDICIONES_LEGALES'},\n",
       " {'texto': 'PRIMERA - OBJETO DEL CONTRATO',\n",
       "  'categoria': 'CONDICIONES_LEGALES'},\n",
       " {'texto': 'La PREFECTURA DEL GUAYAS encarga a EDIFIKA S.A. RUC: 0992881364001, la ejecucion de la obra denominada \"Ampliacion de la Via Samborondon - Asfaltado completo de 10 carriles\", conforme a los estudios tecnicos, planos, especificaciones y cronograma aprobado.',\n",
       "  'categoria': 'REQUISITOS_TECNICOS'},\n",
       " {'texto': 'La obra incluye:', 'categoria': 'REQUISITOS_TECNICOS'},\n",
       " {'texto': '- Replanteo topografico', 'categoria': 'OTRO'},\n",
       " {'texto': '- Movimiento de tierras', 'categoria': 'OTRO'},\n",
       " {'texto': '- Instalacion de drenaje pluvial', 'categoria': 'OTRO'},\n",
       " {'texto': '- Construccion de subbase y base', 'categoria': 'OTRO'},\n",
       " {'texto': '- Aplicacion de carpeta asfaltica AC-20 modificada',\n",
       "  'categoria': 'OTRO'},\n",
       " {'texto': '- Senalizacion horizontal y vertical', 'categoria': 'OTRO'},\n",
       " {'texto': '- Supervision tecnica y entrega formal',\n",
       "  'categoria': 'REQUISITOS_TECNICOS'},\n",
       " {'texto': 'SEGUNDA - MONTO DEL CONTRATO',\n",
       "  'categoria': 'CONDICIONES_ECONOMICAS'},\n",
       " {'texto': 'El valor total del contrato asciende a USD 20,000,000.00, incluido IVA.',\n",
       "  'categoria': 'CONDICIONES_LEGALES'},\n",
       " {'texto': 'Este monto cubre costos directos, indirectos, supervision, garantias y contingencias.',\n",
       "  'categoria': 'CONDICIONES_ECONOMICAS'},\n",
       " {'texto': 'TERCERA - PLAZO DE EJECUCION', 'categoria': 'REQUISITOS_TECNICOS'},\n",
       " {'texto': 'La obra se ejecutara en un plazo de doce (12) meses, contados desde la firma del acta de inicio.',\n",
       "  'categoria': 'REQUISITOS_TECNICOS'},\n",
       " {'texto': 'CUARTA - GARANTIAS', 'categoria': 'CONDICIONES_LEGALES'},\n",
       " {'texto': 'EDIFIKA S.A. debera presentar:', 'categoria': 'OTRO'},\n",
       " {'texto': '- Garantia de fiel cumplimiento: 5% del contrato',\n",
       "  'categoria': 'CONDICIONES_LEGALES'},\n",
       " {'texto': '- Garantia de buen uso del anticipo: 100% del anticipo',\n",
       "  'categoria': 'CONDICIONES_ECONOMICAS'},\n",
       " {'texto': '- Garantia por vicios ocultos: 5% del contrato, vigente por 12 meses',\n",
       "  'categoria': 'CONDICIONES_LEGALES'},\n",
       " {'texto': 'QUINTA - ANTICIPO', 'categoria': 'CONDICIONES_ECONOMICAS'},\n",
       " {'texto': 'La contratante entregara un anticipo del 30% del contrato (USD 6,000,000.00), amortizable desde el mes 2 al mes 9.',\n",
       "  'categoria': 'CONDICIONES_ECONOMICAS'},\n",
       " {'texto': 'SEXTA - MULTAS Y PENALIZACIONES', 'categoria': 'OTRO'},\n",
       " {'texto': '- Multa por retraso: 0.1% diario del valor total',\n",
       "  'categoria': 'OTRO'},\n",
       " {'texto': '- Penalizacion tecnica: hasta 10% de la partida afectada',\n",
       "  'categoria': 'OTRO'},\n",
       " {'texto': '- Causales de terminacion: abandono, incumplimiento grave, falsedad documental',\n",
       "  'categoria': 'CONDICIONES_LEGALES'},\n",
       " {'texto': 'SEPTIMA - RECEPCION DE LA OBRA',\n",
       "  'categoria': 'REQUISITOS_TECNICOS'},\n",
       " {'texto': '- Recepcion provisional: al concluir la obra',\n",
       "  'categoria': 'REQUISITOS_TECNICOS'},\n",
       " {'texto': '- Recepcion definitiva: 12 meses despues, sin vicios ocultos',\n",
       "  'categoria': 'OTRO'},\n",
       " {'texto': 'OCTAVA - RESOLUCION DE CONTROVERSIAS', 'categoria': 'OTRO'},\n",
       " {'texto': '- Conciliacion directa', 'categoria': 'OTRO'},\n",
       " {'texto': '- Mediacion ante Camara de Comercio de Guayaquil',\n",
       "  'categoria': 'OTRO'},\n",
       " {'texto': '- Jurisdiccion ordinaria en Guayaquil', 'categoria': 'OTRO'},\n",
       " {'texto': 'NOVENA - LEGISLACION APLICABLE', 'categoria': 'OTRO'},\n",
       " {'texto': 'LOSNCP, su reglamento, Codigo Civil, Codigo Organico de Finanzas Publicas, normas MTOP, INEN y ASTM.',\n",
       "  'categoria': 'CONDICIONES_LEGALES'},\n",
       " {'texto': 'ANEXOS', 'categoria': 'OTRO'},\n",
       " {'texto': 'ANEXO I - Cronograma de Ejecucion',\n",
       "  'categoria': 'PLAZOS_Y_ENTREGABLES'},\n",
       " {'texto': 'Mes Fase Actividad Principal', 'categoria': 'OTRO'},\n",
       " {'texto': '1 Estudios Topografia, permisos', 'categoria': 'OTRO'},\n",
       " {'texto': '2-3 Movimiento de tierras Excavacion, relleno',\n",
       "  'categoria': 'OTRO'},\n",
       " {'texto': '4-5 Drenaje Alcantarillas, cunetas', 'categoria': 'OTRO'},\n",
       " {'texto': '6-7 Subbase y base Material granular', 'categoria': 'OTRO'},\n",
       " {'texto': '8-9 Asfaltado Carpeta asfaltica', 'categoria': 'OTRO'},\n",
       " {'texto': '10 Senalizacion Pintura, postes', 'categoria': 'OTRO'},\n",
       " {'texto': '11 Supervision final Control de calidad', 'categoria': 'OTRO'},\n",
       " {'texto': '12 Recepcion Inspeccion tecnica', 'categoria': 'OTRO'},\n",
       " {'texto': 'ANEXO II - Presupuesto Detallado',\n",
       "  'categoria': 'CONDICIONES_ECONOMICAS'},\n",
       " {'texto': 'Partida Monto (USD)', 'categoria': 'CONDICIONES_ECONOMICAS'},\n",
       " {'texto': 'Estudios preliminares 500,000.00', 'categoria': 'OTRO'},\n",
       " {'texto': 'Movimiento de tierras 2,000,000.00', 'categoria': 'OTRO'},\n",
       " {'texto': 'Obras de drenaje 2,500,000.00',\n",
       "  'categoria': 'REQUISITOS_TECNICOS'},\n",
       " {'texto': 'Subbase y base 3,000,000.00', 'categoria': 'OTRO'},\n",
       " {'texto': 'Asfaltado 5,000,000.00', 'categoria': 'OTRO'},\n",
       " {'texto': 'Partida Monto (USD)', 'categoria': 'CONDICIONES_ECONOMICAS'},\n",
       " {'texto': 'Senalizacion 1,000,000.00', 'categoria': 'OTRO'},\n",
       " {'texto': 'Supervision 1,000,000.00', 'categoria': 'OTRO'},\n",
       " {'texto': 'Recepcion y cierre 1,000,000.00', 'categoria': 'OTRO'},\n",
       " {'texto': 'Imprevistos 3,000,000.00', 'categoria': 'OTRO'},\n",
       " {'texto': 'Total 20,000,000.00', 'categoria': 'OTRO'},\n",
       " {'texto': 'ANEXO III - Garantias', 'categoria': 'CONDICIONES_LEGALES'},\n",
       " {'texto': 'Tipo Monto (USD) Vigencia Emisor',\n",
       "  'categoria': 'CONDICIONES_ECONOMICAS'},\n",
       " {'texto': 'Fiel cumplimiento 1,000,000.00 Hasta recepcion provis.',\n",
       "  'categoria': 'OTRO'},\n",
       " {'texto': 'Banco del Pacifico', 'categoria': 'OTRO'},\n",
       " {'texto': 'Anticipo 6,000,000.00 Hasta amortizacion Seguros Equinoccial',\n",
       "  'categoria': 'GARANTIAS_Y_POLIZAS'},\n",
       " {'texto': 'Vicios ocultos 1,000,000.00 12 meses Banco Pichincha',\n",
       "  'categoria': 'OTRO'},\n",
       " {'texto': 'ANEXO IV - Especificaciones Tecnicas',\n",
       "  'categoria': 'REQUISITOS_TECNICOS'},\n",
       " {'texto': '- Mezcla asfaltica: AC-20 modificada', 'categoria': 'OTRO'},\n",
       " {'texto': '- Espesor: 10 cm (principales), 7 cm (laterales)',\n",
       "  'categoria': 'OTRO'},\n",
       " {'texto': '- Drenaje: PVC reforzado, pozos cada 50 m', 'categoria': 'OTRO'},\n",
       " {'texto': '- Senalizacion: Pintura termoplastica reflectiva',\n",
       "  'categoria': 'OTRO'},\n",
       " {'texto': '- Normas: INEN, ASTM, MTOP', 'categoria': 'CONDICIONES_LEGALES'},\n",
       " {'texto': 'ANEXO V - Acta de Inicio (Modelo)', 'categoria': 'OTRO'},\n",
       " {'texto': 'Incluye fecha de inicio, firmas, observaciones y registro fotografico.',\n",
       "  'categoria': 'OTRO'},\n",
       " {'texto': 'FORMULARIOS', 'categoria': 'OTRO'},\n",
       " {'texto': 'Formulario de Oferta Tecnica', 'categoria': 'OTRO'},\n",
       " {'texto': '- Experiencia: 2 obras viales > USD 8M',\n",
       "  'categoria': 'REQUISITOS_TECNICOS'},\n",
       " {'texto': '- Personal tecnico: ingeniero residente, topografo, especialista vial',\n",
       "  'categoria': 'REQUISITOS_TECNICOS'},\n",
       " {'texto': '- Maquinaria: pavimentadora, rodillo, motoniveladora',\n",
       "  'categoria': 'OTRO'},\n",
       " {'texto': '- Plan de trabajo: cronograma detallado',\n",
       "  'categoria': 'PLAZOS_Y_ENTREGABLES'},\n",
       " {'texto': 'Formulario de Oferta Economica', 'categoria': 'OTRO'},\n",
       " {'texto': '- Monto ofertado: USD 20,000,000.00',\n",
       "  'categoria': 'CONDICIONES_ECONOMICAS'},\n",
       " {'texto': '- Anticipo: 30%', 'categoria': 'CONDICIONES_ECONOMICAS'},\n",
       " {'texto': '- Forma de pago: avances mensuales',\n",
       "  'categoria': 'CONDICIONES_ECONOMICAS'},\n",
       " {'texto': '- Validez: 90 dias', 'categoria': 'OTRO'},\n",
       " {'texto': '- Garantia de mantenimiento: 2%',\n",
       "  'categoria': 'CONDICIONES_LEGALES'},\n",
       " {'texto': 'ACTA DE ADJUDICACION', 'categoria': 'OTRO'},\n",
       " {'texto': 'ACTA N.o 001-2025-PG', 'categoria': 'OTRO'},\n",
       " {'texto': 'Fecha: [dia/mes/2025]', 'categoria': 'OTRO'},\n",
       " {'texto': 'Adjudicado a: EDIFIKA S.A.', 'categoria': 'OTRO'},\n",
       " {'texto': 'Monto: USD 20,000,000.00', 'categoria': 'CONDICIONES_ECONOMICAS'},\n",
       " {'texto': 'Plazo: 12 meses', 'categoria': 'REQUISITOS_TECNICOS'},\n",
       " {'texto': 'Firmas: Prefectura del Guayas y EDIFIKA S.A.',\n",
       "  'categoria': 'OTRO'},\n",
       " {'texto': 'PRESUPUESTO MENSUAL', 'categoria': 'CONDICIONES_ECONOMICAS'},\n",
       " {'texto': 'Mes Fase Monto (USD)', 'categoria': 'CONDICIONES_ECONOMICAS'},\n",
       " {'texto': '1 Estudios 500,000.00', 'categoria': 'OTRO'},\n",
       " {'texto': '2-3 Movimiento de tierras 2,000,000.00', 'categoria': 'OTRO'},\n",
       " {'texto': '4-5 Drenaje 2,500,000.00', 'categoria': 'OTRO'},\n",
       " {'texto': '6-7 Subbase y base 3,000,000.00', 'categoria': 'OTRO'},\n",
       " {'texto': '8-9 Asfaltado 5,000,000.00', 'categoria': 'OTRO'},\n",
       " {'texto': '10 Senalizacion 1,000,000.00', 'categoria': 'OTRO'},\n",
       " {'texto': '11 Supervision 1,000,000.00', 'categoria': 'OTRO'},\n",
       " {'texto': '12 Recepcion 1,000,000.00', 'categoria': 'OTRO'},\n",
       " {'texto': 'FLUJO DE CAJA PROYECTADO', 'categoria': 'OTRO'},\n",
       " {'texto': 'Mes Avance (USD) Amortizacion Pago Neto Costo Saldo Mensual Saldo Acumulado',\n",
       "  'categoria': 'CONDICIONES_ECONOMICAS'},\n",
       " {'texto': '1 500,000.00 0.00 6,000,000.00 500,000.00 +5,500,000.00 +5,500,000.00',\n",
       "  'categoria': 'OTRO'},\n",
       " {'texto': '2-9 1M-2.5M 750,000.00 250K-1.75M Igual -750,000.00 +250K -> -500K',\n",
       "  'categoria': 'OTRO'},\n",
       " {'texto': '10-12 1,000,000.00 0.00 1,000,000.00 1,000,000.00 0.00 -500,000.00',\n",
       "  'categoria': 'OTRO'}]"
      ]
     },
     "execution_count": 39,
     "metadata": {},
     "output_type": "execute_result"
    }
   ],
   "execution_count": 39
  },
  {
   "metadata": {},
   "cell_type": "code",
   "outputs": [],
   "execution_count": null,
   "source": "",
   "id": "51092ae1f20321d2"
  }
 ],
 "metadata": {
  "kernelspec": {
   "display_name": "Python 3",
   "language": "python",
   "name": "python3"
  },
  "language_info": {
   "codemirror_mode": {
    "name": "ipython",
    "version": 2
   },
   "file_extension": ".py",
   "mimetype": "text/x-python",
   "name": "python",
   "nbconvert_exporter": "python",
   "pygments_lexer": "ipython2",
   "version": "2.7.6"
  }
 },
 "nbformat": 4,
 "nbformat_minor": 5
}
