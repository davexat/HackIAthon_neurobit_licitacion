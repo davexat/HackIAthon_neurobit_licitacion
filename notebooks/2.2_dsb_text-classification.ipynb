{
 "cells": [
  {
   "cell_type": "code",
   "execution_count": 1,
   "id": "initial_id",
   "metadata": {
    "ExecuteTime": {
     "end_time": "2025-08-08T23:49:06.932274Z",
     "start_time": "2025-08-08T23:49:06.795805Z"
    },
    "collapsed": true
   },
   "outputs": [],
   "source": [
    "%load_ext autoreload\n",
    "%autoreload 2"
   ]
  },
  {
   "cell_type": "code",
   "execution_count": 11,
   "id": "4d51a223818bba86",
   "metadata": {
    "ExecuteTime": {
     "end_time": "2025-08-09T00:07:20.606517Z",
     "start_time": "2025-08-09T00:07:20.546986Z"
    }
   },
   "outputs": [],
   "source": [
    "import src.classifier.rule_based as rb\n",
    "import src.utils.pdf_parser_mock as samples"
   ]
  },
  {
   "cell_type": "code",
   "execution_count": 3,
   "id": "15bde37debf417d0",
   "metadata": {
    "ExecuteTime": {
     "end_time": "2025-08-09T00:07:29.352402Z",
     "start_time": "2025-08-09T00:07:29.291332Z"
    }
   },
   "outputs": [
    {
     "name": "stdout",
     "output_type": "stream",
     "text": [
      "=== Resultados de clasificación ===\n",
      "- [CONDICIONES_LEGALES] El contratista deberá cumplir con todas las normas de seguridad.\n",
      "- [REQUISITOS_TECNICOS] El plazo será de 90 días a partir de la firma del contrato.\n",
      "- [CONDICIONES_ECONOMICAS] El presupuesto estimado es de $500,000.\n",
      "- [GARANTIAS_Y_POLIZAS] Se solicita presentar póliza de seguro de buena ejecución.\n",
      "- [PLAZOS_Y_ENTREGABLES] La primera entrega parcial será en 30 días hábiles.\n",
      "- [OTRO] Contacto: soporte@empresa.com o visite https://www.empresa.com/terminos.\n",
      "Aserciones básicas: OK\n"
     ]
    }
   ],
   "source": [
    "rb.test()"
   ]
  },
  {
   "cell_type": "code",
   "execution_count": 4,
   "id": "83e626f9ce3700e2",
   "metadata": {
    "ExecuteTime": {
     "end_time": "2025-08-09T00:07:54.005193Z",
     "start_time": "2025-08-09T00:07:53.942174Z"
    }
   },
   "outputs": [
    {
     "data": {
      "text/plain": [
       "[{'texto': 'El contratista deberá cumplir con todas las normas de seguridad.',\n",
       "  'categoria': 'CONDICIONES_LEGALES'},\n",
       " {'texto': 'El plazo será de 90 días a partir de la firma del contrato.',\n",
       "  'categoria': 'REQUISITOS_TECNICOS'},\n",
       " {'texto': 'El presupuesto estimado es de $500,000.',\n",
       "  'categoria': 'CONDICIONES_ECONOMICAS'},\n",
       " {'texto': 'El RUC del contratista es 1790012345001.',\n",
       "  'categoria': 'CONDICIONES_LEGALES'}]"
      ]
     },
     "execution_count": 4,
     "metadata": {},
     "output_type": "execute_result"
    }
   ],
   "source": [
    "text = samples.get_sample_text()\n",
    "rb.classify_paragraph(text)"
   ]
  },
  {
   "cell_type": "code",
   "execution_count": 28,
   "id": "e624e668",
   "metadata": {},
   "outputs": [
    {
     "data": {
      "text/plain": [
       "[{'texto': 'Hola tilines, este es un texto de prueba para la clasificación plazo.',\n",
       "  'categoria': 'REQUISITOS_TECNICOS'}]"
      ]
     },
     "execution_count": 28,
     "metadata": {},
     "output_type": "execute_result"
    }
   ],
   "source": [
    "rb.classify_paragraph(\"Hola tilines, este es un texto de prueba para la clasificación plazo.\")"
   ]
  },
  {
   "cell_type": "code",
   "execution_count": 6,
   "id": "022c5263",
   "metadata": {},
   "outputs": [],
   "source": [
    "from src.utils.gen_training_data import generate_training_data"
   ]
  },
  {
   "cell_type": "code",
   "execution_count": null,
   "id": "51092ae1f20321d2",
   "metadata": {},
   "outputs": [
    {
     "name": "stdout",
     "output_type": "stream",
     "text": [
      "Predicción directa: Condiciones Económicas\n",
      "Otra predicción: Condiciones Económicas\n"
     ]
    }
   ],
   "source": [
    "# Entrenamiento del modelo 1\n",
    "import os\n",
    "from src.classifier.ml_based import train_from_csv, predict_text, load_model\n",
    "\n",
    "os.makedirs(\"models\", exist_ok=True)\n",
    "\n",
    "# 1) Entrenamiento (entrena y guarda el modelo en disco)\n",
    "train_from_csv(\n",
    "    dataset_csv=\"../data/training.csv\",\n",
    "    model_path=\"../models/model.joblib\",   # p.ej. \"models/model.joblib\"\n",
    "    vectorizer=\"spacy\",                   # si tu pipeline soporta spaCy\n",
    "    spacy_model=\"es_core_news_md\"         # requerido si usas vectorización spaCy\n",
    ")\n",
    "\n",
    "# 2a) Predicción directa (carga + predice)\n",
    "pred = predict_text(\n",
    "    text=\"Adjunto la factura del servicio prestado este mes.\",\n",
    "    model_path=\"../models/model.joblib\"\n",
    ")\n",
    "print(\"Predicción directa:\", pred)"
   ]
  },
  {
   "cell_type": "code",
   "execution_count": 24,
   "id": "f72a1479",
   "metadata": {},
   "outputs": [
    {
     "name": "stdout",
     "output_type": "stream",
     "text": [
      "Predicción directa: Condiciones Técnicas\n"
     ]
    }
   ],
   "source": [
    "pred = predict_text(\n",
    "    text=\"Hola mundo, este es un texto de prueba para la clasificación.\",\n",
    "    model_path=\"../models/model.joblib\"\n",
    ")\n",
    "print(\"Predicción directa:\", pred)"
   ]
  },
  {
   "cell_type": "code",
   "execution_count": null,
   "id": "fbde405c",
   "metadata": {},
   "outputs": [],
   "source": []
  }
 ],
 "metadata": {
  "kernelspec": {
   "display_name": "venv (3.13.5)",
   "language": "python",
   "name": "python3"
  },
  "language_info": {
   "codemirror_mode": {
    "name": "ipython",
    "version": 3
   },
   "file_extension": ".py",
   "mimetype": "text/x-python",
   "name": "python",
   "nbconvert_exporter": "python",
   "pygments_lexer": "ipython3",
   "version": "3.13.5"
  }
 },
 "nbformat": 4,
 "nbformat_minor": 5
}
