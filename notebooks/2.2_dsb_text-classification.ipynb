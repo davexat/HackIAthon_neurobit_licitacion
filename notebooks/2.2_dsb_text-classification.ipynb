{
 "cells": [
  {
   "cell_type": "code",
   "execution_count": 1,
   "id": "initial_id",
   "metadata": {
    "ExecuteTime": {
     "end_time": "2025-08-08T23:49:06.932274Z",
     "start_time": "2025-08-08T23:49:06.795805Z"
    },
    "collapsed": true
   },
   "outputs": [],
   "source": [
    "%load_ext autoreload\n",
    "%autoreload 2"
   ]
  },
  {
   "cell_type": "code",
   "execution_count": 41,
   "id": "166587f2",
   "metadata": {},
   "outputs": [],
   "source": [
    "from src.api.gemini import GeminiAPI"
   ]
  },
  {
   "cell_type": "code",
   "execution_count": 42,
   "id": "0ea4f1e0",
   "metadata": {},
   "outputs": [],
   "source": [
    "genai = GeminiAPI()"
   ]
  },
  {
   "cell_type": "code",
   "execution_count": 43,
   "id": "d93d344e",
   "metadata": {},
   "outputs": [],
   "source": [
    "responses = []\n",
    "\n",
    "document_chunks = []\n",
    "\n",
    "with open(\"../data/result.txt\", \"r\", encoding=\"utf-8\") as file:\n",
    "    count = 1\n",
    "    for line in file:\n",
    "        document_chunks.append({\n",
    "            \"document_id\": \"0\",\n",
    "            \"document_text\": line.strip(),\n",
    "            \"chunk_index\": count,\n",
    "            \"total_chunks\": 4\n",
    "        })\n",
    "        count += 1"
   ]
  },
  {
   "cell_type": "code",
   "execution_count": 39,
   "id": "5ada561b",
   "metadata": {},
   "outputs": [],
   "source": [
    "import json\n",
    "for chunk in document_chunks:\n",
    "    json_chunk = json.dumps(chunk)\n",
    "    responses.append(genai.classify_document(json_chunk))"
   ]
  },
  {
   "cell_type": "code",
   "execution_count": 40,
   "id": "1ef6508e",
   "metadata": {},
   "outputs": [],
   "source": [
    "import json\n",
    "with open(\"../data/responses.json\", \"w\", encoding=\"utf-8\") as file:\n",
    "    json.dump(responses, file, ensure_ascii=False, indent=4)"
   ]
  },
  {
   "cell_type": "code",
   "execution_count": 35,
   "id": "77772326",
   "metadata": {},
   "outputs": [
    {
     "data": {
      "text/plain": [
       "{'document_id': '0',\n",
       " 'language': 'es',\n",
       " 'segments': [{'id': 1,\n",
       "   'labels': ['Alcance del Trabajo'],\n",
       "   'span': [0, 241],\n",
       "   'excerpt': 'CONTRATO DE OBRA PÚBLICA Entre la PREFECTURAâ€¦',\n",
       "   'entities': [],\n",
       "   'confidence': 0.95},\n",
       "  {'id': 2,\n",
       "   'labels': ['Condiciones Legales'],\n",
       "   'span': [242, 342],\n",
       "   'excerpt': 'PRIMERA – OBJETO DEL CONTRATO La PREFECTURAâ€¦',\n",
       "   'entities': [{'type': 'RUC',\n",
       "     'text': '0992881364001',\n",
       "     'span': [285, 298],\n",
       "     'confidence': 0.99}],\n",
       "   'confidence': 0.95},\n",
       "  {'id': 3,\n",
       "   'labels': ['Alcance del Trabajo'],\n",
       "   'span': [343, 736],\n",
       "   'excerpt': '“Ampliación de la Vía Samborondón – Asfaltadoâ€¦',\n",
       "   'entities': [],\n",
       "   'confidence': 0.95},\n",
       "  {'id': 4,\n",
       "   'labels': ['Condiciones EconÃ³micas'],\n",
       "   'span': [737, 890],\n",
       "   'excerpt': 'SEGUNDA – MONTO DEL CONTRATO El valor totalâ€¦',\n",
       "   'entities': [{'type': 'AMOUNT',\n",
       "     'original': 'USD 20,000,000.00',\n",
       "     'currency': 'USD',\n",
       "     'value': 20000000.0,\n",
       "     'span': [778, 794],\n",
       "     'confidence': 0.99}],\n",
       "   'confidence': 0.95},\n",
       "  {'id': 5,\n",
       "   'labels': ['Plazos'],\n",
       "   'span': [891, 970],\n",
       "   'excerpt': 'TERCERA – PLAZO DE EJECUCIÓN La obra se ejecutaráâ€¦',\n",
       "   'entities': [],\n",
       "   'confidence': 0.95},\n",
       "  {'id': 6,\n",
       "   'labels': ['GarantÃ\\xadas'],\n",
       "   'span': [971, 1183],\n",
       "   'excerpt': 'CUARTA – GARANTÍAS EDIFIKA S.A. deberá presentar:â€¦',\n",
       "   'entities': [],\n",
       "   'confidence': 0.95},\n",
       "  {'id': 7,\n",
       "   'labels': ['Condiciones EconÃ³micas'],\n",
       "   'span': [1184, 1334],\n",
       "   'excerpt': 'QUINTA – ANTICIPO La contratante entregará unâ€¦',\n",
       "   'entities': [{'type': 'AMOUNT',\n",
       "     'original': 'USD 6,000,000.00',\n",
       "     'currency': 'USD',\n",
       "     'value': 6000000.0,\n",
       "     'span': [1260, 1276],\n",
       "     'confidence': 0.99}],\n",
       "   'confidence': 0.95}],\n",
       " 'entities': [{'type': 'AMOUNT',\n",
       "   'original': 'USD 20,000,000.00',\n",
       "   'currency': 'USD',\n",
       "   'value': 20000000.0,\n",
       "   'span': [166, 182],\n",
       "   'confidence': 0.99}],\n",
       " 'warnings': [],\n",
       " 'meta': {'model': 'v1',\n",
       "  'processing_date': '2024-02-19',\n",
       "  'chunk_index': 1,\n",
       "  'total_chunks': 4}}"
      ]
     },
     "execution_count": 35,
     "metadata": {},
     "output_type": "execute_result"
    }
   ],
   "source": [
    "responses[0]"
   ]
  },
  {
   "cell_type": "code",
   "execution_count": null,
   "id": "e848abd3",
   "metadata": {},
   "outputs": [],
   "source": []
  }
 ],
 "metadata": {
  "kernelspec": {
   "display_name": "venv (3.13.5)",
   "language": "python",
   "name": "python3"
  },
  "language_info": {
   "codemirror_mode": {
    "name": "ipython",
    "version": 3
   },
   "file_extension": ".py",
   "mimetype": "text/x-python",
   "name": "python",
   "nbconvert_exporter": "python",
   "pygments_lexer": "ipython3",
   "version": "3.13.5"
  }
 },
 "nbformat": 4,
 "nbformat_minor": 5
}
