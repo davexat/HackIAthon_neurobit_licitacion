{
 "cells": [
  {
   "cell_type": "code",
   "id": "initial_id",
   "metadata": {
    "collapsed": true,
    "ExecuteTime": {
     "end_time": "2025-08-08T21:29:42.041392Z",
     "start_time": "2025-08-08T21:29:42.036757Z"
    }
   },
   "source": [
    "import src.classifier.ml_based as ml_based\n",
    "import src.classifier.rule_based as rule_based"
   ],
   "outputs": [],
   "execution_count": 10
  },
  {
   "metadata": {
    "ExecuteTime": {
     "end_time": "2025-08-08T21:29:43.001815Z",
     "start_time": "2025-08-08T21:29:42.997987Z"
    }
   },
   "cell_type": "code",
   "source": "print(\"Hello World\")",
   "id": "48c5cef663bb1367",
   "outputs": [
    {
     "name": "stdout",
     "output_type": "stream",
     "text": [
      "Hello World\n"
     ]
    }
   ],
   "execution_count": 11
  },
  {
   "metadata": {
    "ExecuteTime": {
     "end_time": "2025-08-08T21:29:43.497664Z",
     "start_time": "2025-08-08T21:29:43.493883Z"
    }
   },
   "cell_type": "code",
   "source": [
    "ml_based.test()\n",
    "rule_based.test()"
   ],
   "id": "5d8d22674cd299b0",
   "outputs": [
    {
     "name": "stdout",
     "output_type": "stream",
     "text": [
      "ML Based Classifier\n",
      "Rule Based Classifier\n"
     ]
    }
   ],
   "execution_count": 12
  },
  {
   "metadata": {},
   "cell_type": "code",
   "outputs": [],
   "execution_count": null,
   "source": "",
   "id": "994e2b2ab19c07ff"
  }
 ],
 "metadata": {
  "kernelspec": {
   "display_name": "Python 3",
   "language": "python",
   "name": "python3"
  },
  "language_info": {
   "codemirror_mode": {
    "name": "ipython",
    "version": 2
   },
   "file_extension": ".py",
   "mimetype": "text/x-python",
   "name": "python",
   "nbconvert_exporter": "python",
   "pygments_lexer": "ipython2",
   "version": "2.7.6"
  }
 },
 "nbformat": 4,
 "nbformat_minor": 5
}
