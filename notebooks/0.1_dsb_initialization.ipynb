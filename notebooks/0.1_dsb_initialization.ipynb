{
 "cells": [
  {
   "cell_type": "code",
   "execution_count": 1,
   "id": "initial_id",
   "metadata": {
    "ExecuteTime": {
     "end_time": "2025-08-08T21:29:42.041392Z",
     "start_time": "2025-08-08T21:29:42.036757Z"
    },
    "collapsed": true
   },
   "outputs": [],
   "source": [
    "import src.classifier.ml_based as ml_based\n",
    "import src.classifier.rule_based as rule_based"
   ]
  },
  {
   "cell_type": "code",
   "execution_count": 2,
   "id": "48c5cef663bb1367",
   "metadata": {
    "ExecuteTime": {
     "end_time": "2025-08-08T21:29:43.001815Z",
     "start_time": "2025-08-08T21:29:42.997987Z"
    }
   },
   "outputs": [
    {
     "name": "stdout",
     "output_type": "stream",
     "text": [
      "Hello World\n"
     ]
    }
   ],
   "source": [
    "print(\"Hello World\")"
   ]
  },
  {
   "cell_type": "code",
   "execution_count": 3,
   "id": "5d8d22674cd299b0",
   "metadata": {
    "ExecuteTime": {
     "end_time": "2025-08-08T21:29:43.497664Z",
     "start_time": "2025-08-08T21:29:43.493883Z"
    }
   },
   "outputs": [
    {
     "name": "stdout",
     "output_type": "stream",
     "text": [
      "ML Based Classifier\n",
      "Rule Based Classifier\n"
     ]
    }
   ],
   "source": [
    "ml_based.test()\n",
    "rule_based.test()"
   ]
  },
  {
   "cell_type": "code",
   "execution_count": null,
   "id": "994e2b2ab19c07ff",
   "metadata": {},
   "outputs": [],
   "source": []
  }
 ],
 "metadata": {
  "kernelspec": {
   "display_name": "hackaithon",
   "language": "python",
   "name": "python3"
  },
  "language_info": {
   "codemirror_mode": {
    "name": "ipython",
    "version": 3
   },
   "file_extension": ".py",
   "mimetype": "text/x-python",
   "name": "python",
   "nbconvert_exporter": "python",
   "pygments_lexer": "ipython3",
   "version": "3.13.5"
  }
 },
 "nbformat": 4,
 "nbformat_minor": 5
}
