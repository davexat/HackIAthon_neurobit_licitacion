{
 "cells": [
  {
   "cell_type": "code",
   "execution_count": 8,
   "id": "239b536d",
   "metadata": {},
   "outputs": [
    {
     "name": "stdout",
     "output_type": "stream",
     "text": [
      "The autoreload extension is already loaded. To reload it, use:\n",
      "  %reload_ext autoreload\n"
     ]
    }
   ],
   "source": [
    "%load_ext autoreload\n",
    "%autoreload 2"
   ]
  },
  {
   "cell_type": "markdown",
   "id": "03e0c946",
   "metadata": {},
   "source": [
    "# Procesamiento de Pliegos de Licitación\n",
    "\n",
    "Este notebook demuestra el flujo completo para:\n",
    "1. Extraer texto de PDFs de pliegos de licitación\n",
    "2. Procesar y analizar el contenido\n",
    "3. Identificar secciones clave y entidades importantes\n",
    "4. Generar un reporte estructurado"
   ]
  },
  {
   "cell_type": "markdown",
   "id": "a168ece5",
   "metadata": {},
   "source": [
    "### Configuración Inicial"
   ]
  },
  {
   "cell_type": "code",
   "execution_count": 9,
   "id": "505ee880",
   "metadata": {},
   "outputs": [],
   "source": [
    "import fitz  # PyMuPDF\n",
    "import pdfplumber\n",
    "import pytesseract # OCR\n",
    "from PIL import Image\n",
    "import io\n",
    "import re\n",
    "import os\n",
    "import sys\n",
    "import importlib\n",
    "import traceback\n",
    "import os\n",
    "from pathlib import Path\n",
    "import json\n",
    "import datetime\n",
    "from typing import Dict, List"
   ]
  },
  {
   "cell_type": "code",
   "execution_count": 10,
   "id": "41291ee8",
   "metadata": {},
   "outputs": [
    {
     "data": {
      "text/plain": [
       "<module 'src.utils.pdf_extractor' from 'c:\\\\users\\\\nori\\\\programmingprojects\\\\hackathons\\\\hackiathon_neurobit_licitacion\\\\src\\\\utils\\\\pdf_extractor.py'>"
      ]
     },
     "execution_count": 10,
     "metadata": {},
     "output_type": "execute_result"
    }
   ],
   "source": [
    "from src.utils.pdf_extractor import PDFTextExtractor, extract_text_from_pdf\n",
    "import src.utils.pdf_extractor as pdf_extractor_mod\n",
    "importlib.reload(pdf_extractor_mod) "
   ]
  },
  {
   "cell_type": "code",
   "execution_count": 11,
   "id": "713444d0",
   "metadata": {},
   "outputs": [],
   "source": [
    "# Agregar src al path para importar nuestros módulos\n",
    "module_path = str(Path.cwd().parent / \"src\")\n",
    "if module_path not in sys.path:\n",
    "    sys.path.append(module_path)"
   ]
  },
  {
   "cell_type": "markdown",
   "id": "8422f641",
   "metadata": {},
   "source": [
    "#### Ejemplo con OCR a un archivo txt"
   ]
  },
  {
   "cell_type": "markdown",
   "id": "d9aa7374",
   "metadata": {},
   "source": [
    "Verificar que `tesseract.exe` y `spa.traineddata` esten instalados."
   ]
  },
  {
   "cell_type": "code",
   "execution_count": 12,
   "id": "70c19f71",
   "metadata": {},
   "outputs": [
    {
     "name": "stdout",
     "output_type": "stream",
     "text": [
      "tesseract.exe exists: True\n",
      "spa.traineddata exists: True\n"
     ]
    }
   ],
   "source": [
    "tess_base = r\"C:\\Program Files\\Tesseract-OCR\"   # ajusta si lo instalaste en otra carpeta\n",
    "print(\"tesseract.exe exists:\", os.path.exists(os.path.join(tess_base, \"tesseract.exe\")))\n",
    "print(\"spa.traineddata exists:\", os.path.exists(os.path.join(tess_base, \"tessdata\", \"spa.traineddata\")))"
   ]
  },
  {
   "cell_type": "code",
   "execution_count": 13,
   "id": "d50b58a6",
   "metadata": {},
   "outputs": [
    {
     "name": "stdout",
     "output_type": "stream",
     "text": [
      "Extracción completada. Resultado guardado en: ../2.1_results\\result.txt\n"
     ]
    }
   ],
   "source": [
    "\n",
    "pdf_path = \"../data/PLIEGO-LICO-V-2023-001.pdf\"\n",
    "out_folder = \"../2.1_results\"\n",
    "os.makedirs(out_folder, exist_ok=True)\n",
    "\n",
    "out_file = os.path.join(out_folder, f\"result.txt\")\n",
    "\n",
    "try:\n",
    "    extractor = PDFTextExtractor()\n",
    "    result = extractor.extract_text(pdf_path, use_ocr=True, extract_tables=True)\n",
    "\n",
    "    with open(out_file, \"w\", encoding=\"utf-8\") as f:\n",
    "        f.write(\"=== TEXTO EXTRAÍDO ===\\n\\n\")\n",
    "        f.write(result.get('text', '') or \"\")\n",
    "        f.write(\"\\n\\n=== METADATOS ===\\n\")\n",
    "        metadata = result.get('metadata', {})\n",
    "        for k, v in metadata.items():\n",
    "            f.write(f\"{k}: {v}\\n\")\n",
    "\n",
    "        tables = result.get('tables', [])\n",
    "        if tables:\n",
    "            f.write(\"\\n\\n=== TABLAS DETECTADAS ===\\n\")\n",
    "            for i, table in enumerate(tables, start=1):\n",
    "                f.write(f\"\\nTabla {i} (Página {table.get('page', '?')}):\\n\")\n",
    "                for row in table.get('table', []):\n",
    "                    # aseguramos cada celda como string y evitamos None\n",
    "                    safe_row = [(\"\" if c is None else str(c)) for c in row]\n",
    "                    f.write(\" | \".join(safe_row) + \"\\n\")\n",
    "\n",
    "    print(f\"Extracción completada. Resultado guardado en: {out_file}\")\n",
    "\n",
    "except Exception as e:\n",
    "    print(\"ERROR durante la extracción:\")\n",
    "    print(str(e))\n",
    "    print(\"\\n⤷ TRACEBACK COMPLETO:\")\n",
    "    traceback.print_exc()\n",
    "    print(\"\\nConsejo rápido: si ves PermissionError, cierra cualquier visor del PDF (Acrobat/Edge).\")\n",
    "    print(\"Si ves errores de Tesseract sobre 'spa.traineddata', revisa que esté instalado o usa fallback en el módulo.\")\n"
   ]
  }
 ],
 "metadata": {
  "kernelspec": {
   "display_name": "hackaithon",
   "language": "python",
   "name": "python3"
  },
  "language_info": {
   "codemirror_mode": {
    "name": "ipython",
    "version": 3
   },
   "file_extension": ".py",
   "mimetype": "text/x-python",
   "name": "python",
   "nbconvert_exporter": "python",
   "pygments_lexer": "ipython3",
   "version": "3.13.5"
  }
 },
 "nbformat": 4,
 "nbformat_minor": 5
}
